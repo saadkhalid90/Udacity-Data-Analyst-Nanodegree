{
 "cells": [
  {
   "cell_type": "code",
   "execution_count": 74,
   "metadata": {
    "collapsed": true
   },
   "outputs": [],
   "source": [
    "## Importing libraries\n",
    "import os\n",
    "import pandas as pd\n",
    "import numpy as np\n",
    "import matplotlib.pyplot as plt\n",
    "from ggplot import *\n",
    "os.chdir('/Users/Air/Desktop/MachineLearn/final_project/')\n",
    "import sklearn"
   ]
  },
  {
   "cell_type": "code",
   "execution_count": 2,
   "metadata": {
    "collapsed": true
   },
   "outputs": [],
   "source": [
    "## running the main script below"
   ]
  },
  {
   "cell_type": "code",
   "execution_count": 108,
   "metadata": {
    "collapsed": false
   },
   "outputs": [
    {
     "name": "stdout",
     "output_type": "stream",
     "text": [
      "The accuracy score of the algorithm is: 0.767441860465\n",
      "The precision score of the algorithm is: 0.0\n",
      "The recall score of the algorithm is: 0.0\n"
     ]
    }
   ],
   "source": [
    "run poi_id.py"
   ]
  },
  {
   "cell_type": "code",
   "execution_count": 105,
   "metadata": {
    "collapsed": false
   },
   "outputs": [
    {
     "data": {
      "text/plain": [
       "DecisionTreeClassifier(class_weight=None, criterion='gini', max_depth=None,\n",
       "            max_features=None, max_leaf_nodes=None, min_samples_leaf=1,\n",
       "            min_samples_split=2, min_weight_fraction_leaf=0.0,\n",
       "            random_state=12, splitter='best')"
      ]
     },
     "execution_count": 105,
     "metadata": {},
     "output_type": "execute_result"
    }
   ],
   "source": [
    "## best estimator as a resut of parameter tuning/ cross validation \n",
    "clf.best_estimator_"
   ]
  },
  {
   "cell_type": "code",
   "execution_count": 17,
   "metadata": {
    "collapsed": true
   },
   "outputs": [],
   "source": [
    "## clf.feature_importances_"
   ]
  },
  {
   "cell_type": "code",
   "execution_count": 109,
   "metadata": {
    "collapsed": false
   },
   "outputs": [
    {
     "name": "stdout",
     "output_type": "stream",
     "text": [
      "GridSearchCV(cv=None, error_score='raise',\n",
      "       estimator=Pipeline(steps=[('features', FeatureUnion(n_jobs=1,\n",
      "       transformer_list=[('scaler', MinMaxScaler(copy=True, feature_range=(0, 1))), ('selector', SelectKBest(k=5, score_func=<function f_classif at 0x10966f140>))],\n",
      "       transformer_weights=None)), ('KNN', KNeighborsClassifier(algorithm='auto', leaf_size=30, metric='minkowski',\n",
      "           metric_params=None, n_neighbors=5, p=2, weights='uniform'))]),\n",
      "       fit_params={}, iid=True, loss_func=None, n_jobs=1,\n",
      "       param_grid={'KNN__metric': ('euclidean', 'manhattan', 'chebyshev', 'minkowski'), 'KNN__n_neighbors': [1, 2, 4, 6, 8, 10]},\n",
      "       pre_dispatch='2*n_jobs', refit=True, score_func=None,\n",
      "       scoring='recall', verbose=0)\n",
      "\tAccuracy: 0.86647\tPrecision: 0.49904\tRecall: 0.39150\tF1: 0.43878\tF2: 0.40913\n",
      "\tTotal predictions: 15000\tTrue positives:  783\tFalse positives:  786\tFalse negatives: 1217\tTrue negatives: 12214\n",
      "\n"
     ]
    }
   ],
   "source": [
    "run tester.py"
   ]
  },
  {
   "cell_type": "code",
   "execution_count": 86,
   "metadata": {
    "collapsed": false
   },
   "outputs": [
    {
     "data": {
      "text/plain": [
       "array([[33,  4],\n",
       "       [ 6,  0]])"
      ]
     },
     "execution_count": 86,
     "metadata": {},
     "output_type": "execute_result"
    }
   ],
   "source": [
    "## investigating the confusion matrix\n",
    "sklearn.metrics.confusion_matrix(labels_test, predicted, labels=None)"
   ]
  },
  {
   "cell_type": "code",
   "execution_count": 90,
   "metadata": {
    "collapsed": false
   },
   "outputs": [
    {
     "data": {
      "text/plain": [
       "array([ True,  True,  True, False, False, False,  True,  True, False], dtype=bool)"
      ]
     },
     "execution_count": 90,
     "metadata": {},
     "output_type": "execute_result"
    }
   ],
   "source": [
    "## checking which features have been selected as a result of selectKBest\n",
    "selector.get_support()"
   ]
  },
  {
   "cell_type": "code",
   "execution_count": 91,
   "metadata": {
    "collapsed": false
   },
   "outputs": [
    {
     "data": {
      "text/plain": [
       "array([  9.32492268,  10.97716328,   3.903868  ,   3.48558479,\n",
       "         3.66938716,   2.96112262,   7.79264219,  13.02958944,   2.77410815])"
      ]
     },
     "execution_count": 91,
     "metadata": {},
     "output_type": "execute_result"
    }
   ],
   "source": [
    "## scores related to all features in selectKBest\n",
    "selector.scores_"
   ]
  },
  {
   "cell_type": "code",
   "execution_count": 22,
   "metadata": {
    "collapsed": false
   },
   "outputs": [],
   "source": [
    "## defining functions for general exploration of the dataset\n",
    "def get_enron_employees(dict):\n",
    "    count = 1\n",
    "    for i in dict.keys():\n",
    "        print count, i\n",
    "        count = count + 1\n",
    "        \n",
    "def get_features(dict):\n",
    "    count = 1\n",
    "    for i in dict[dict.keys()[0]].keys():\n",
    "        print count, i\n",
    "        count = count + 1\n",
    "def get_pois(dict):\n",
    "    count = 1\n",
    "    for i in dict.keys():\n",
    "        if dict[i]['poi']==True:\n",
    "            print count, i\n",
    "            count = count + 1"
   ]
  },
  {
   "cell_type": "code",
   "execution_count": 23,
   "metadata": {
    "collapsed": false
   },
   "outputs": [
    {
     "name": "stdout",
     "output_type": "stream",
     "text": [
      "1 METTS MARK\n",
      "2 BAXTER JOHN C\n",
      "3 ELLIOTT STEVEN\n",
      "4 CORDES WILLIAM R\n",
      "5 HANNON KEVIN P\n",
      "6 MORDAUNT KRISTINA M\n",
      "7 MEYER ROCKFORD G\n",
      "8 MCMAHON JEFFREY\n",
      "9 HORTON STANLEY C\n",
      "10 PIPER GREGORY F\n",
      "11 HUMPHREY GENE E\n",
      "12 UMANOFF ADAM S\n",
      "13 BLACHMAN JEREMY M\n",
      "14 SUNDE MARTIN\n",
      "15 GIBBS DANA R\n",
      "16 LOWRY CHARLES P\n",
      "17 COLWELL WESLEY\n",
      "18 MULLER MARK S\n",
      "19 JACKSON CHARLENE R\n",
      "20 WESTFAHL RICHARD K\n",
      "21 WALTERS GARETH W\n",
      "22 WALLS JR ROBERT H\n",
      "23 KITCHEN LOUISE\n",
      "24 CHAN RONNIE\n",
      "25 BELFER ROBERT\n",
      "26 SHANKMAN JEFFREY A\n",
      "27 WODRASKA JOHN\n",
      "28 BERGSIEKER RICHARD P\n",
      "29 URQUHART JOHN A\n",
      "30 BIBI PHILIPPE A\n",
      "31 RIEKER PAULA H\n",
      "32 WHALEY DAVID A\n",
      "33 BECK SALLY W\n",
      "34 HAUG DAVID L\n",
      "35 ECHOLS JOHN B\n",
      "36 MENDELSOHN JOHN\n",
      "37 HICKERSON GARY J\n",
      "38 CLINE KENNETH W\n",
      "39 LEWIS RICHARD\n",
      "40 HAYES ROBERT E\n",
      "41 MCCARTY DANNY J\n",
      "42 KOPPER MICHAEL J\n",
      "43 LEFF DANIEL P\n",
      "44 LAVORATO JOHN J\n",
      "45 BERBERIAN DAVID\n",
      "46 DETMERING TIMOTHY J\n",
      "47 WAKEHAM JOHN\n",
      "48 POWERS WILLIAM\n",
      "49 GOLD JOSEPH\n",
      "50 BANNANTINE JAMES M\n",
      "51 DUNCAN JOHN H\n",
      "52 SHAPIRO RICHARD S\n",
      "53 SHERRIFF JOHN R\n",
      "54 SHELBY REX\n",
      "55 LEMAISTRE CHARLES\n",
      "56 DEFFNER JOSEPH M\n",
      "57 KISHKILL JOSEPH G\n",
      "58 WHALLEY LAWRENCE G\n",
      "59 MCCONNELL MICHAEL S\n",
      "60 PIRO JIM\n",
      "61 DELAINEY DAVID W\n",
      "62 SULLIVAN-SHAKLOVITZ COLLEEN\n",
      "63 WROBEL BRUCE\n",
      "64 LINDHOLM TOD A\n",
      "65 MEYER JEROME J\n",
      "66 LAY KENNETH L\n",
      "67 BUTTS ROBERT H\n",
      "68 OLSON CINDY K\n",
      "69 MCDONALD REBECCA\n",
      "70 CUMBERLAND MICHAEL S\n",
      "71 GAHN ROBERT S\n",
      "72 MCCLELLAN GEORGE\n",
      "73 HERMANN ROBERT J\n",
      "74 SCRIMSHAW MATTHEW\n",
      "75 GATHMANN WILLIAM D\n",
      "76 HAEDICKE MARK E\n",
      "77 BOWEN JR RAYMOND M\n",
      "78 GILLIS JOHN\n",
      "79 FITZGERALD JAY L\n",
      "80 MORAN MICHAEL P\n",
      "81 REDMOND BRIAN L\n",
      "82 BAZELIDES PHILIP J\n",
      "83 BELDEN TIMOTHY N\n",
      "84 DURAN WILLIAM D\n",
      "85 THORN TERENCE H\n",
      "86 FASTOW ANDREW S\n",
      "87 FOY JOE\n",
      "88 CALGER CHRISTOPHER F\n",
      "89 RICE KENNETH D\n",
      "90 KAMINSKI WINCENTY J\n",
      "91 LOCKHART EUGENE E\n",
      "92 COX DAVID\n",
      "93 OVERDYKE JR JERE C\n",
      "94 PEREIRA PAULO V. FERRAZ\n",
      "95 STABLER FRANK\n",
      "96 SKILLING JEFFREY K\n",
      "97 BLAKE JR. NORMAN P\n",
      "98 SHERRICK JEFFREY B\n",
      "99 PRENTICE JAMES\n",
      "100 GRAY RODNEY\n",
      "101 PICKERING MARK R\n",
      "102 THE TRAVEL AGENCY IN THE PARK\n",
      "103 NOLES JAMES L\n",
      "104 KEAN STEVEN J\n",
      "105 FOWLER PEGGY\n",
      "106 WASAFF GEORGE\n",
      "107 WHITE JR THOMAS E\n",
      "108 CHRISTODOULOU DIOMEDES\n",
      "109 ALLEN PHILLIP K\n",
      "110 SHARP VICTORIA T\n",
      "111 JAEDICKE ROBERT\n",
      "112 WINOKUR JR. HERBERT S\n",
      "113 BROWN MICHAEL\n",
      "114 BADUM JAMES P\n",
      "115 HUGHES JAMES A\n",
      "116 REYNOLDS LAWRENCE\n",
      "117 DIMICHELE RICHARD G\n",
      "118 BHATNAGAR SANJAY\n",
      "119 CARTER REBECCA C\n",
      "120 BUCHANAN HAROLD G\n",
      "121 YEAP SOON\n",
      "122 MURRAY JULIA H\n",
      "123 GARLAND C KEVIN\n",
      "124 DODSON KEITH\n",
      "125 YEAGER F SCOTT\n",
      "126 HIRKO JOSEPH\n",
      "127 DIETRICH JANET R\n",
      "128 DERRICK JR. JAMES V\n",
      "129 FREVERT MARK A\n",
      "130 PAI LOU L\n",
      "131 BAY FRANKLIN R\n",
      "132 HAYSLETT RODERICK J\n",
      "133 FUGH JOHN L\n",
      "134 FALLON JAMES B\n",
      "135 KOENIG MARK E\n",
      "136 SAVAGE FRANK\n",
      "137 IZZO LAWRENCE L\n",
      "138 TILNEY ELIZABETH A\n",
      "139 MARTIN AMANDA K\n",
      "140 BUY RICHARD B\n",
      "141 GRAMM WENDY L\n",
      "142 CAUSEY RICHARD A\n",
      "143 TAYLOR MITCHELL S\n",
      "144 DONAHUE JR JEFFREY M\n",
      "145 GLISAN JR BEN F\n"
     ]
    }
   ],
   "source": [
    "get_enron_employees(data_dict)"
   ]
  },
  {
   "cell_type": "code",
   "execution_count": 24,
   "metadata": {
    "collapsed": false
   },
   "outputs": [
    {
     "name": "stdout",
     "output_type": "stream",
     "text": [
      "1 HANNON KEVIN P\n",
      "2 COLWELL WESLEY\n",
      "3 RIEKER PAULA H\n",
      "4 KOPPER MICHAEL J\n",
      "5 SHELBY REX\n",
      "6 DELAINEY DAVID W\n",
      "7 LAY KENNETH L\n",
      "8 BOWEN JR RAYMOND M\n",
      "9 BELDEN TIMOTHY N\n",
      "10 FASTOW ANDREW S\n",
      "11 CALGER CHRISTOPHER F\n",
      "12 RICE KENNETH D\n",
      "13 SKILLING JEFFREY K\n",
      "14 YEAGER F SCOTT\n",
      "15 HIRKO JOSEPH\n",
      "16 KOENIG MARK E\n",
      "17 CAUSEY RICHARD A\n",
      "18 GLISAN JR BEN F\n"
     ]
    }
   ],
   "source": [
    "get_pois(data_dict)"
   ]
  },
  {
   "cell_type": "code",
   "execution_count": 25,
   "metadata": {
    "collapsed": false
   },
   "outputs": [
    {
     "name": "stdout",
     "output_type": "stream",
     "text": [
      "1 to_messages\n",
      "2 deferral_payments\n",
      "3 expenses\n",
      "4 poi\n",
      "5 deferred_income\n",
      "6 email_address\n",
      "7 long_term_incentive\n",
      "8 fraction_emails_from_poi\n",
      "9 restricted_stock_deferred\n",
      "10 shared_receipt_with_poi\n",
      "11 loan_advances\n",
      "12 from_messages\n",
      "13 other\n",
      "14 director_fees\n",
      "15 bonus\n",
      "16 total_stock_value\n",
      "17 from_poi_to_this_person\n",
      "18 from_this_person_to_poi\n",
      "19 restricted_stock\n",
      "20 salary\n",
      "21 total_payments\n",
      "22 fraction_emails_to_poi\n",
      "23 exercised_stock_options\n"
     ]
    }
   ],
   "source": [
    "get_features(data_dict)"
   ]
  },
  {
   "cell_type": "code",
   "execution_count": 26,
   "metadata": {
    "collapsed": false
   },
   "outputs": [],
   "source": [
    "## turning the python dictionary into a pandas dataframe\n",
    "enron_fin_data_frame = pd.DataFrame.from_dict(data_dict, orient = 'index').replace(\"NaN\", np.nan)"
   ]
  },
  {
   "cell_type": "code",
   "execution_count": 27,
   "metadata": {
    "collapsed": false
   },
   "outputs": [
    {
     "data": {
      "text/plain": [
       "to_messages                   59\n",
       "deferral_payments            107\n",
       "expenses                      51\n",
       "poi                            0\n",
       "deferred_income               97\n",
       "email_address                 34\n",
       "long_term_incentive           80\n",
       "fraction_emails_from_poi       0\n",
       "restricted_stock_deferred    128\n",
       "shared_receipt_with_poi       59\n",
       "loan_advances                142\n",
       "from_messages                 59\n",
       "other                         53\n",
       "director_fees                129\n",
       "bonus                         64\n",
       "total_stock_value             20\n",
       "from_poi_to_this_person       59\n",
       "from_this_person_to_poi       59\n",
       "restricted_stock              36\n",
       "salary                        51\n",
       "total_payments                21\n",
       "fraction_emails_to_poi         0\n",
       "exercised_stock_options       44\n",
       "dtype: int64"
      ]
     },
     "execution_count": 27,
     "metadata": {},
     "output_type": "execute_result"
    }
   ],
   "source": [
    "## checking for missing values in the dataset\n",
    "enron_fin_data_frame.isnull().sum()"
   ]
  },
  {
   "cell_type": "code",
   "execution_count": 28,
   "metadata": {
    "collapsed": false
   },
   "outputs": [],
   "source": [
    "## plots within ipython notebook window\n",
    "%matplotlib inline"
   ]
  },
  {
   "cell_type": "code",
   "execution_count": 29,
   "metadata": {
    "collapsed": true
   },
   "outputs": [],
   "source": [
    "## Some exploratory analysis. lotting graphs to detect outliers"
   ]
  },
  {
   "cell_type": "code",
   "execution_count": 30,
   "metadata": {
    "collapsed": false
   },
   "outputs": [
    {
     "data": {
      "text/plain": [
       "<matplotlib.text.Text at 0x10a7a2b50>"
      ]
     },
     "execution_count": 30,
     "metadata": {},
     "output_type": "execute_result"
    },
    {
     "data": {
      "image/png": "[encoded data removed]",
      "text/plain": [
       "<matplotlib.figure.Figure at 0x10af0be90>"
      ]
     },
     "metadata": {},
     "output_type": "display_data"
    }
   ],
   "source": [
    "plt.scatter(np.array(enron_fin_data_frame['salary']), np.array(enron_fin_data_frame['bonus']))\n",
    "plt.xlabel(\"Salary\")\n",
    "plt.ylabel(\"Bonus\")\n",
    "plt.title(\"Salary, bonus relationship of Enron executives\")"
   ]
  },
  {
   "cell_type": "code",
   "execution_count": 31,
   "metadata": {
    "collapsed": false
   },
   "outputs": [
    {
     "name": "stderr",
     "output_type": "stream",
     "text": [
      "Saving 11.0 x 8.0 in image.\n"
     ]
    },
    {
     "data": {
      "image/png": "[encoded data removed]",
      "text/plain": [
       "<matplotlib.figure.Figure at 0x10acfc4d0>"
      ]
     },
     "metadata": {},
     "output_type": "display_data"
    },
    {
     "data": {
      "text/plain": [
       "<ggplot: (279761933)>"
      ]
     },
     "execution_count": 31,
     "metadata": {},
     "output_type": "execute_result"
    }
   ],
   "source": [
    "p = ggplot(enron_fin_data_frame, aes(x='salary', y = 'bonus', color = 'poi')) +\\\n",
    "    geom_point(alpha = 0.95, size = 20)\n",
    "ggsave(p, \"scatter1.png\")\n",
    "p"
   ]
  },
  {
   "cell_type": "code",
   "execution_count": 32,
   "metadata": {
    "collapsed": false
   },
   "outputs": [
    {
     "name": "stderr",
     "output_type": "stream",
     "text": [
      "Saving 11.0 x 8.0 in image.\n"
     ]
    },
    {
     "data": {
      "image/png": "[encoded data removed]",
      "text/plain": [
       "<matplotlib.figure.Figure at 0x10c70c6d0>"
      ]
     },
     "metadata": {},
     "output_type": "display_data"
    },
    {
     "data": {
      "text/plain": [
       "<ggplot: (281491861)>"
      ]
     },
     "execution_count": 32,
     "metadata": {},
     "output_type": "execute_result"
    }
   ],
   "source": [
    "p2 = ggplot(enron_fin_data_frame, aes(x='fraction_emails_to_poi', y = 'fraction_emails_from_poi', color = 'poi')) +\\\n",
    "    geom_point(alpha = 0.95)\n",
    "ggsave(p2, \"scatter2.png\")\n",
    "p2"
   ]
  },
  {
   "cell_type": "code",
   "execution_count": 33,
   "metadata": {
    "collapsed": false
   },
   "outputs": [
    {
     "name": "stderr",
     "output_type": "stream",
     "text": [
      "Saving 11.0 x 8.0 in image.\n"
     ]
    },
    {
     "data": {
      "image/png": "[encoded data removed]",
      "text/plain": [
       "<matplotlib.figure.Figure at 0x10afaf990>"
      ]
     },
     "metadata": {},
     "output_type": "display_data"
    },
    {
     "data": {
      "text/plain": [
       "<ggplot: (281491953)>"
      ]
     },
     "execution_count": 33,
     "metadata": {},
     "output_type": "execute_result"
    }
   ],
   "source": [
    "p3 = ggplot(enron_fin_data_frame, aes(x='exercised_stock_options', y = 'restricted_stock', color = 'poi')) +\\\n",
    "    geom_point(alpha = 0.95)\n",
    "ggsave(p3, \"scatter3.png\")  \n",
    "p3"
   ]
  },
  {
   "cell_type": "code",
   "execution_count": 34,
   "metadata": {
    "collapsed": false
   },
   "outputs": [
    {
     "data": {
      "text/plain": [
       "'\\nAvailable features in dataset:\\n1 to_messages\\n2 deferral_payments\\n3 expenses\\n4 poi\\n5 deferred_income\\n6 email_address\\n7 long_term_incentive\\n8 fraction_emails_from_poi\\n9 restricted_stock_deferred\\n10 shared_receipt_with_poi\\n11 loan_advances\\n12 from_messages\\n13 other\\n14 director_fees\\n15 bonus\\n16 total_stock_value\\n17 from_poi_to_this_person\\n18 from_this_person_to_poi\\n19 restricted_stock\\n20 salary\\n21 total_payments\\n22 fraction_emails_to_poi\\n23 exercised_stock_options\\n'"
      ]
     },
     "execution_count": 34,
     "metadata": {},
     "output_type": "execute_result"
    }
   ],
   "source": [
    "### list of features to help plotting\n",
    "'''\n",
    "Available features in dataset:\n",
    "1 to_messages\n",
    "2 deferral_payments\n",
    "3 expenses\n",
    "4 poi\n",
    "5 deferred_income\n",
    "6 email_address\n",
    "7 long_term_incentive\n",
    "8 fraction_emails_from_poi\n",
    "9 restricted_stock_deferred\n",
    "10 shared_receipt_with_poi\n",
    "11 loan_advances\n",
    "12 from_messages\n",
    "13 other\n",
    "14 director_fees\n",
    "15 bonus\n",
    "16 total_stock_value\n",
    "17 from_poi_to_this_person\n",
    "18 from_this_person_to_poi\n",
    "19 restricted_stock\n",
    "20 salary\n",
    "21 total_payments\n",
    "22 fraction_emails_to_poi\n",
    "23 exercised_stock_options\n",
    "'''"
   ]
  },
  {
   "cell_type": "code",
   "execution_count": 80,
   "metadata": {
    "collapsed": false,
    "scrolled": false
   },
   "outputs": [
    {
     "data": {
      "image/png": "[encoded data removed]",
      "text/plain": [
       "<matplotlib.figure.Figure at 0x1114c1f10>"
      ]
     },
     "metadata": {},
     "output_type": "display_data"
    },
    {
     "data": {
      "text/plain": [
       "<ggplot: (284557577)>"
      ]
     },
     "execution_count": 80,
     "metadata": {},
     "output_type": "execute_result"
    }
   ],
   "source": [
    "## investigating distributions of variables\n",
    "ggplot(enron_fin_data_frame, aes(x='total_payments', fill = 'poi')) +\\\n",
    "    geom_histogram()"
   ]
  },
  {
   "cell_type": "code",
   "execution_count": 7,
   "metadata": {
    "collapsed": false
   },
   "outputs": [
    {
     "data": {
      "text/plain": [
       "array([ 0.,  0.,  0.,  1.,  0.,  1.,  0.,  0.,  0.,  0.,  0.,  1.,  0.,\n",
       "        0.,  0.,  0.,  0.,  0.,  0.,  0.,  0.,  0.,  0.,  0.,  0.,  0.,\n",
       "        0.,  0.,  0.,  0.,  0.,  0.,  0.,  0.,  0.,  0.,  0.,  0.,  0.,\n",
       "        0.,  0.,  0.])"
      ]
     },
     "execution_count": 7,
     "metadata": {},
     "output_type": "execute_result"
    }
   ],
   "source": [
    "## investigating predicted labels and original labels\n",
    "predicted"
   ]
  },
  {
   "cell_type": "code",
   "execution_count": 8,
   "metadata": {
    "collapsed": false
   },
   "outputs": [
    {
     "data": {
      "text/plain": [
       "[0.0,\n",
       " 0.0,\n",
       " 0.0,\n",
       " 1.0,\n",
       " 1.0,\n",
       " 0.0,\n",
       " 0.0,\n",
       " 0.0,\n",
       " 0.0,\n",
       " 0.0,\n",
       " 0.0,\n",
       " 0.0,\n",
       " 0.0,\n",
       " 0.0,\n",
       " 0.0,\n",
       " 0.0,\n",
       " 0.0,\n",
       " 0.0,\n",
       " 0.0,\n",
       " 1.0,\n",
       " 0.0,\n",
       " 0.0,\n",
       " 0.0,\n",
       " 0.0,\n",
       " 0.0,\n",
       " 0.0,\n",
       " 0.0,\n",
       " 0.0,\n",
       " 0.0,\n",
       " 0.0,\n",
       " 0.0,\n",
       " 0.0,\n",
       " 0.0,\n",
       " 0.0,\n",
       " 0.0,\n",
       " 0.0,\n",
       " 0.0,\n",
       " 0.0,\n",
       " 0.0,\n",
       " 0.0,\n",
       " 0.0,\n",
       " 0.0]"
      ]
     },
     "execution_count": 8,
     "metadata": {},
     "output_type": "execute_result"
    }
   ],
   "source": [
    "labels_test"
   ]
  },
  {
   "cell_type": "code",
   "execution_count": null,
   "metadata": {
    "collapsed": false
   },
   "outputs": [],
   "source": [
    "## printing features \n",
    "count = 0\n",
    "for i in predicted:\n",
    "    if i == 1.:\n",
    "        print features_test[count]\n",
    "    count = count + 1   "
   ]
  },
  {
   "cell_type": "code",
   "execution_count": 104,
   "metadata": {
    "collapsed": false
   },
   "outputs": [
    {
     "name": "stdout",
     "output_type": "stream",
     "text": [
      "[ 0.26315789]\n",
      "[ 0.2]\n",
      "[ 0.27777778]\n",
      "[ 0.23333333]\n"
     ]
    }
   ],
   "source": [
    "count = 0\n",
    "for i in predicted:\n",
    "    if i == 1.:\n",
    "        print features_test[count]\n",
    "    count = count + 1    "
   ]
  },
  {
   "cell_type": "code",
   "execution_count": 78,
   "metadata": {
    "collapsed": false
   },
   "outputs": [
    {
     "data": {
      "text/plain": [
       "array([[37,  0],\n",
       "       [ 3,  2]])"
      ]
     },
     "execution_count": 78,
     "metadata": {},
     "output_type": "execute_result"
    }
   ],
   "source": [
    "sklearn.metrics.confusion_matrix(labels_test, predicted, labels=None)"
   ]
  },
  {
   "cell_type": "code",
   "execution_count": 26,
   "metadata": {
    "collapsed": false
   },
   "outputs": [
    {
     "name": "stdout",
     "output_type": "stream",
     "text": [
      "[ 0.]\n",
      "[ 0.55555556]\n",
      "[ 0.24489796]\n",
      "[ 0.58536585]\n",
      "[ 0.19843597]\n",
      "[ 0.275]\n",
      "[ 0.44444444]\n",
      "[ 0.375]\n",
      "[ 0.2231405]\n",
      "[ 0.35897436]\n",
      "[ 0.65625]\n",
      "[ 0.]\n",
      "[ 0.]\n",
      "[ 0.24590164]\n",
      "[ 0.17361111]\n"
     ]
    }
   ],
   "source": [
    "count = 0\n",
    "for i in labels_train:\n",
    "    if i == 1.:\n",
    "        print features_train[count]\n",
    "    count = count + 1 "
   ]
  },
  {
   "cell_type": "code",
   "execution_count": 88,
   "metadata": {
    "collapsed": false
   },
   "outputs": [
    {
     "data": {
      "text/html": [
       "<div>\n",
       "<table border=\"1\" class=\"dataframe\">\n",
       "  <thead>\n",
       "    <tr style=\"text-align: right;\">\n",
       "      <th></th>\n",
       "      <th>to_messages</th>\n",
       "      <th>deferral_payments</th>\n",
       "      <th>expenses</th>\n",
       "      <th>poi</th>\n",
       "      <th>deferred_income</th>\n",
       "      <th>email_address</th>\n",
       "      <th>long_term_incentive</th>\n",
       "      <th>fraction_emails_from_poi</th>\n",
       "      <th>restricted_stock_deferred</th>\n",
       "      <th>shared_receipt_with_poi</th>\n",
       "      <th>...</th>\n",
       "      <th>director_fees</th>\n",
       "      <th>bonus</th>\n",
       "      <th>total_stock_value</th>\n",
       "      <th>from_poi_to_this_person</th>\n",
       "      <th>from_this_person_to_poi</th>\n",
       "      <th>restricted_stock</th>\n",
       "      <th>salary</th>\n",
       "      <th>total_payments</th>\n",
       "      <th>fraction_emails_to_poi</th>\n",
       "      <th>exercised_stock_options</th>\n",
       "    </tr>\n",
       "  </thead>\n",
       "  <tbody>\n",
       "    <tr>\n",
       "      <th>BELDEN TIMOTHY N</th>\n",
       "      <td>7991</td>\n",
       "      <td>2144013</td>\n",
       "      <td>17355</td>\n",
       "      <td>True</td>\n",
       "      <td>-2334434</td>\n",
       "      <td>tim.belden@enron.com</td>\n",
       "      <td>NaN</td>\n",
       "      <td>0.223140</td>\n",
       "      <td>NaN</td>\n",
       "      <td>5521</td>\n",
       "      <td>...</td>\n",
       "      <td>NaN</td>\n",
       "      <td>5249999</td>\n",
       "      <td>1110705</td>\n",
       "      <td>228</td>\n",
       "      <td>108</td>\n",
       "      <td>157569</td>\n",
       "      <td>213999</td>\n",
       "      <td>5501630</td>\n",
       "      <td>0.028532</td>\n",
       "      <td>953136</td>\n",
       "    </tr>\n",
       "    <tr>\n",
       "      <th>BOWEN JR RAYMOND M</th>\n",
       "      <td>1858</td>\n",
       "      <td>NaN</td>\n",
       "      <td>65907</td>\n",
       "      <td>True</td>\n",
       "      <td>-833</td>\n",
       "      <td>raymond.bowen@enron.com</td>\n",
       "      <td>974293</td>\n",
       "      <td>0.555556</td>\n",
       "      <td>NaN</td>\n",
       "      <td>1593</td>\n",
       "      <td>...</td>\n",
       "      <td>NaN</td>\n",
       "      <td>1350000</td>\n",
       "      <td>252055</td>\n",
       "      <td>140</td>\n",
       "      <td>15</td>\n",
       "      <td>252055</td>\n",
       "      <td>278601</td>\n",
       "      <td>2669589</td>\n",
       "      <td>0.075350</td>\n",
       "      <td>NaN</td>\n",
       "    </tr>\n",
       "    <tr>\n",
       "      <th>CALGER CHRISTOPHER F</th>\n",
       "      <td>2598</td>\n",
       "      <td>NaN</td>\n",
       "      <td>35818</td>\n",
       "      <td>True</td>\n",
       "      <td>-262500</td>\n",
       "      <td>christopher.calger@enron.com</td>\n",
       "      <td>375304</td>\n",
       "      <td>0.173611</td>\n",
       "      <td>NaN</td>\n",
       "      <td>2188</td>\n",
       "      <td>...</td>\n",
       "      <td>NaN</td>\n",
       "      <td>1250000</td>\n",
       "      <td>126027</td>\n",
       "      <td>199</td>\n",
       "      <td>25</td>\n",
       "      <td>126027</td>\n",
       "      <td>240189</td>\n",
       "      <td>1639297</td>\n",
       "      <td>0.076597</td>\n",
       "      <td>NaN</td>\n",
       "    </tr>\n",
       "    <tr>\n",
       "      <th>CAUSEY RICHARD A</th>\n",
       "      <td>1892</td>\n",
       "      <td>NaN</td>\n",
       "      <td>30674</td>\n",
       "      <td>True</td>\n",
       "      <td>-235000</td>\n",
       "      <td>richard.causey@enron.com</td>\n",
       "      <td>350000</td>\n",
       "      <td>0.244898</td>\n",
       "      <td>NaN</td>\n",
       "      <td>1585</td>\n",
       "      <td>...</td>\n",
       "      <td>NaN</td>\n",
       "      <td>1000000</td>\n",
       "      <td>2502063</td>\n",
       "      <td>58</td>\n",
       "      <td>12</td>\n",
       "      <td>2502063</td>\n",
       "      <td>415189</td>\n",
       "      <td>1868758</td>\n",
       "      <td>0.030655</td>\n",
       "      <td>NaN</td>\n",
       "    </tr>\n",
       "    <tr>\n",
       "      <th>COLWELL WESLEY</th>\n",
       "      <td>1758</td>\n",
       "      <td>27610</td>\n",
       "      <td>16514</td>\n",
       "      <td>True</td>\n",
       "      <td>-144062</td>\n",
       "      <td>wes.colwell@enron.com</td>\n",
       "      <td>NaN</td>\n",
       "      <td>0.275000</td>\n",
       "      <td>NaN</td>\n",
       "      <td>1132</td>\n",
       "      <td>...</td>\n",
       "      <td>NaN</td>\n",
       "      <td>1200000</td>\n",
       "      <td>698242</td>\n",
       "      <td>240</td>\n",
       "      <td>11</td>\n",
       "      <td>698242</td>\n",
       "      <td>288542</td>\n",
       "      <td>1490344</td>\n",
       "      <td>0.136519</td>\n",
       "      <td>NaN</td>\n",
       "    </tr>\n",
       "    <tr>\n",
       "      <th>DELAINEY DAVID W</th>\n",
       "      <td>3093</td>\n",
       "      <td>NaN</td>\n",
       "      <td>86174</td>\n",
       "      <td>True</td>\n",
       "      <td>NaN</td>\n",
       "      <td>david.delainey@enron.com</td>\n",
       "      <td>1294981</td>\n",
       "      <td>0.198436</td>\n",
       "      <td>NaN</td>\n",
       "      <td>2097</td>\n",
       "      <td>...</td>\n",
       "      <td>NaN</td>\n",
       "      <td>3000000</td>\n",
       "      <td>3614261</td>\n",
       "      <td>66</td>\n",
       "      <td>609</td>\n",
       "      <td>1323148</td>\n",
       "      <td>365163</td>\n",
       "      <td>4747979</td>\n",
       "      <td>0.021339</td>\n",
       "      <td>2291113</td>\n",
       "    </tr>\n",
       "    <tr>\n",
       "      <th>FASTOW ANDREW S</th>\n",
       "      <td>NaN</td>\n",
       "      <td>NaN</td>\n",
       "      <td>55921</td>\n",
       "      <td>True</td>\n",
       "      <td>-1386055</td>\n",
       "      <td>andrew.fastow@enron.com</td>\n",
       "      <td>1736055</td>\n",
       "      <td>0.000000</td>\n",
       "      <td>NaN</td>\n",
       "      <td>NaN</td>\n",
       "      <td>...</td>\n",
       "      <td>NaN</td>\n",
       "      <td>1300000</td>\n",
       "      <td>1794412</td>\n",
       "      <td>NaN</td>\n",
       "      <td>NaN</td>\n",
       "      <td>1794412</td>\n",
       "      <td>440698</td>\n",
       "      <td>2424083</td>\n",
       "      <td>0.000000</td>\n",
       "      <td>NaN</td>\n",
       "    </tr>\n",
       "    <tr>\n",
       "      <th>GLISAN JR BEN F</th>\n",
       "      <td>873</td>\n",
       "      <td>NaN</td>\n",
       "      <td>125978</td>\n",
       "      <td>True</td>\n",
       "      <td>NaN</td>\n",
       "      <td>ben.glisan@enron.com</td>\n",
       "      <td>71023</td>\n",
       "      <td>0.375000</td>\n",
       "      <td>NaN</td>\n",
       "      <td>874</td>\n",
       "      <td>...</td>\n",
       "      <td>NaN</td>\n",
       "      <td>600000</td>\n",
       "      <td>778546</td>\n",
       "      <td>52</td>\n",
       "      <td>6</td>\n",
       "      <td>393818</td>\n",
       "      <td>274975</td>\n",
       "      <td>1272284</td>\n",
       "      <td>0.059565</td>\n",
       "      <td>384728</td>\n",
       "    </tr>\n",
       "    <tr>\n",
       "      <th>HANNON KEVIN P</th>\n",
       "      <td>1045</td>\n",
       "      <td>NaN</td>\n",
       "      <td>34039</td>\n",
       "      <td>True</td>\n",
       "      <td>-3117011</td>\n",
       "      <td>kevin.hannon@enron.com</td>\n",
       "      <td>1617011</td>\n",
       "      <td>0.656250</td>\n",
       "      <td>NaN</td>\n",
       "      <td>1035</td>\n",
       "      <td>...</td>\n",
       "      <td>NaN</td>\n",
       "      <td>1500000</td>\n",
       "      <td>6391065</td>\n",
       "      <td>32</td>\n",
       "      <td>21</td>\n",
       "      <td>853064</td>\n",
       "      <td>243293</td>\n",
       "      <td>288682</td>\n",
       "      <td>0.030622</td>\n",
       "      <td>5538001</td>\n",
       "    </tr>\n",
       "    <tr>\n",
       "      <th>HIRKO JOSEPH</th>\n",
       "      <td>NaN</td>\n",
       "      <td>10259</td>\n",
       "      <td>77978</td>\n",
       "      <td>True</td>\n",
       "      <td>NaN</td>\n",
       "      <td>joe.hirko@enron.com</td>\n",
       "      <td>NaN</td>\n",
       "      <td>0.000000</td>\n",
       "      <td>NaN</td>\n",
       "      <td>NaN</td>\n",
       "      <td>...</td>\n",
       "      <td>NaN</td>\n",
       "      <td>NaN</td>\n",
       "      <td>30766064</td>\n",
       "      <td>NaN</td>\n",
       "      <td>NaN</td>\n",
       "      <td>NaN</td>\n",
       "      <td>NaN</td>\n",
       "      <td>91093</td>\n",
       "      <td>0.000000</td>\n",
       "      <td>30766064</td>\n",
       "    </tr>\n",
       "    <tr>\n",
       "      <th>KOENIG MARK E</th>\n",
       "      <td>2374</td>\n",
       "      <td>NaN</td>\n",
       "      <td>127017</td>\n",
       "      <td>True</td>\n",
       "      <td>NaN</td>\n",
       "      <td>mark.koenig@enron.com</td>\n",
       "      <td>300000</td>\n",
       "      <td>0.245902</td>\n",
       "      <td>NaN</td>\n",
       "      <td>2271</td>\n",
       "      <td>...</td>\n",
       "      <td>NaN</td>\n",
       "      <td>700000</td>\n",
       "      <td>1920055</td>\n",
       "      <td>53</td>\n",
       "      <td>15</td>\n",
       "      <td>1248318</td>\n",
       "      <td>309946</td>\n",
       "      <td>1587421</td>\n",
       "      <td>0.022325</td>\n",
       "      <td>671737</td>\n",
       "    </tr>\n",
       "    <tr>\n",
       "      <th>KOPPER MICHAEL J</th>\n",
       "      <td>NaN</td>\n",
       "      <td>NaN</td>\n",
       "      <td>118134</td>\n",
       "      <td>True</td>\n",
       "      <td>NaN</td>\n",
       "      <td>michael.kopper@enron.com</td>\n",
       "      <td>602671</td>\n",
       "      <td>0.000000</td>\n",
       "      <td>NaN</td>\n",
       "      <td>NaN</td>\n",
       "      <td>...</td>\n",
       "      <td>NaN</td>\n",
       "      <td>800000</td>\n",
       "      <td>985032</td>\n",
       "      <td>NaN</td>\n",
       "      <td>NaN</td>\n",
       "      <td>985032</td>\n",
       "      <td>224305</td>\n",
       "      <td>2652612</td>\n",
       "      <td>0.000000</td>\n",
       "      <td>NaN</td>\n",
       "    </tr>\n",
       "    <tr>\n",
       "      <th>LAY KENNETH L</th>\n",
       "      <td>4273</td>\n",
       "      <td>202911</td>\n",
       "      <td>99832</td>\n",
       "      <td>True</td>\n",
       "      <td>-300000</td>\n",
       "      <td>kenneth.lay@enron.com</td>\n",
       "      <td>3600000</td>\n",
       "      <td>0.444444</td>\n",
       "      <td>NaN</td>\n",
       "      <td>2411</td>\n",
       "      <td>...</td>\n",
       "      <td>NaN</td>\n",
       "      <td>7000000</td>\n",
       "      <td>49110078</td>\n",
       "      <td>123</td>\n",
       "      <td>16</td>\n",
       "      <td>14761694</td>\n",
       "      <td>1072321</td>\n",
       "      <td>103559793</td>\n",
       "      <td>0.028785</td>\n",
       "      <td>34348384</td>\n",
       "    </tr>\n",
       "    <tr>\n",
       "      <th>RICE KENNETH D</th>\n",
       "      <td>905</td>\n",
       "      <td>NaN</td>\n",
       "      <td>46950</td>\n",
       "      <td>True</td>\n",
       "      <td>-3504386</td>\n",
       "      <td>ken.rice@enron.com</td>\n",
       "      <td>1617011</td>\n",
       "      <td>0.222222</td>\n",
       "      <td>NaN</td>\n",
       "      <td>864</td>\n",
       "      <td>...</td>\n",
       "      <td>NaN</td>\n",
       "      <td>1750000</td>\n",
       "      <td>22542539</td>\n",
       "      <td>42</td>\n",
       "      <td>4</td>\n",
       "      <td>2748364</td>\n",
       "      <td>420636</td>\n",
       "      <td>505050</td>\n",
       "      <td>0.046409</td>\n",
       "      <td>19794175</td>\n",
       "    </tr>\n",
       "    <tr>\n",
       "      <th>RIEKER PAULA H</th>\n",
       "      <td>1328</td>\n",
       "      <td>214678</td>\n",
       "      <td>33271</td>\n",
       "      <td>True</td>\n",
       "      <td>-100000</td>\n",
       "      <td>paula.rieker@enron.com</td>\n",
       "      <td>NaN</td>\n",
       "      <td>0.585366</td>\n",
       "      <td>NaN</td>\n",
       "      <td>1258</td>\n",
       "      <td>...</td>\n",
       "      <td>NaN</td>\n",
       "      <td>700000</td>\n",
       "      <td>1918887</td>\n",
       "      <td>35</td>\n",
       "      <td>48</td>\n",
       "      <td>283649</td>\n",
       "      <td>249201</td>\n",
       "      <td>1099100</td>\n",
       "      <td>0.026355</td>\n",
       "      <td>1635238</td>\n",
       "    </tr>\n",
       "    <tr>\n",
       "      <th>SHELBY REX</th>\n",
       "      <td>225</td>\n",
       "      <td>NaN</td>\n",
       "      <td>22884</td>\n",
       "      <td>True</td>\n",
       "      <td>-4167</td>\n",
       "      <td>rex.shelby@enron.com</td>\n",
       "      <td>NaN</td>\n",
       "      <td>0.358974</td>\n",
       "      <td>NaN</td>\n",
       "      <td>91</td>\n",
       "      <td>...</td>\n",
       "      <td>NaN</td>\n",
       "      <td>200000</td>\n",
       "      <td>2493616</td>\n",
       "      <td>13</td>\n",
       "      <td>14</td>\n",
       "      <td>869220</td>\n",
       "      <td>211844</td>\n",
       "      <td>2003885</td>\n",
       "      <td>0.057778</td>\n",
       "      <td>1624396</td>\n",
       "    </tr>\n",
       "    <tr>\n",
       "      <th>SKILLING JEFFREY K</th>\n",
       "      <td>3627</td>\n",
       "      <td>NaN</td>\n",
       "      <td>29336</td>\n",
       "      <td>True</td>\n",
       "      <td>NaN</td>\n",
       "      <td>jeff.skilling@enron.com</td>\n",
       "      <td>1920000</td>\n",
       "      <td>0.277778</td>\n",
       "      <td>NaN</td>\n",
       "      <td>2042</td>\n",
       "      <td>...</td>\n",
       "      <td>NaN</td>\n",
       "      <td>5600000</td>\n",
       "      <td>26093672</td>\n",
       "      <td>88</td>\n",
       "      <td>30</td>\n",
       "      <td>6843672</td>\n",
       "      <td>1111258</td>\n",
       "      <td>8682716</td>\n",
       "      <td>0.024262</td>\n",
       "      <td>19250000</td>\n",
       "    </tr>\n",
       "    <tr>\n",
       "      <th>YEAGER F SCOTT</th>\n",
       "      <td>NaN</td>\n",
       "      <td>NaN</td>\n",
       "      <td>53947</td>\n",
       "      <td>True</td>\n",
       "      <td>NaN</td>\n",
       "      <td>scott.yeager@enron.com</td>\n",
       "      <td>NaN</td>\n",
       "      <td>0.000000</td>\n",
       "      <td>NaN</td>\n",
       "      <td>NaN</td>\n",
       "      <td>...</td>\n",
       "      <td>NaN</td>\n",
       "      <td>NaN</td>\n",
       "      <td>11884758</td>\n",
       "      <td>NaN</td>\n",
       "      <td>NaN</td>\n",
       "      <td>3576206</td>\n",
       "      <td>158403</td>\n",
       "      <td>360300</td>\n",
       "      <td>0.000000</td>\n",
       "      <td>8308552</td>\n",
       "    </tr>\n",
       "  </tbody>\n",
       "</table>\n",
       "<p>18 rows × 23 columns</p>\n",
       "</div>"
      ],
      "text/plain": [
       "                      to_messages  deferral_payments  expenses   poi  \\\n",
       "BELDEN TIMOTHY N             7991            2144013     17355  True   \n",
       "BOWEN JR RAYMOND M           1858                NaN     65907  True   \n",
       "CALGER CHRISTOPHER F         2598                NaN     35818  True   \n",
       "CAUSEY RICHARD A             1892                NaN     30674  True   \n",
       "COLWELL WESLEY               1758              27610     16514  True   \n",
       "DELAINEY DAVID W             3093                NaN     86174  True   \n",
       "FASTOW ANDREW S               NaN                NaN     55921  True   \n",
       "GLISAN JR BEN F               873                NaN    125978  True   \n",
       "HANNON KEVIN P               1045                NaN     34039  True   \n",
       "HIRKO JOSEPH                  NaN              10259     77978  True   \n",
       "KOENIG MARK E                2374                NaN    127017  True   \n",
       "KOPPER MICHAEL J              NaN                NaN    118134  True   \n",
       "LAY KENNETH L                4273             202911     99832  True   \n",
       "RICE KENNETH D                905                NaN     46950  True   \n",
       "RIEKER PAULA H               1328             214678     33271  True   \n",
       "SHELBY REX                    225                NaN     22884  True   \n",
       "SKILLING JEFFREY K           3627                NaN     29336  True   \n",
       "YEAGER F SCOTT                NaN                NaN     53947  True   \n",
       "\n",
       "                      deferred_income                 email_address  \\\n",
       "BELDEN TIMOTHY N             -2334434          tim.belden@enron.com   \n",
       "BOWEN JR RAYMOND M               -833       raymond.bowen@enron.com   \n",
       "CALGER CHRISTOPHER F          -262500  christopher.calger@enron.com   \n",
       "CAUSEY RICHARD A              -235000      richard.causey@enron.com   \n",
       "COLWELL WESLEY                -144062         wes.colwell@enron.com   \n",
       "DELAINEY DAVID W                  NaN      david.delainey@enron.com   \n",
       "FASTOW ANDREW S              -1386055       andrew.fastow@enron.com   \n",
       "GLISAN JR BEN F                   NaN          ben.glisan@enron.com   \n",
       "HANNON KEVIN P               -3117011        kevin.hannon@enron.com   \n",
       "HIRKO JOSEPH                      NaN           joe.hirko@enron.com   \n",
       "KOENIG MARK E                     NaN         mark.koenig@enron.com   \n",
       "KOPPER MICHAEL J                  NaN      michael.kopper@enron.com   \n",
       "LAY KENNETH L                 -300000         kenneth.lay@enron.com   \n",
       "RICE KENNETH D               -3504386            ken.rice@enron.com   \n",
       "RIEKER PAULA H                -100000        paula.rieker@enron.com   \n",
       "SHELBY REX                      -4167          rex.shelby@enron.com   \n",
       "SKILLING JEFFREY K                NaN       jeff.skilling@enron.com   \n",
       "YEAGER F SCOTT                    NaN        scott.yeager@enron.com   \n",
       "\n",
       "                      long_term_incentive  fraction_emails_from_poi  \\\n",
       "BELDEN TIMOTHY N                      NaN                  0.223140   \n",
       "BOWEN JR RAYMOND M                 974293                  0.555556   \n",
       "CALGER CHRISTOPHER F               375304                  0.173611   \n",
       "CAUSEY RICHARD A                   350000                  0.244898   \n",
       "COLWELL WESLEY                        NaN                  0.275000   \n",
       "DELAINEY DAVID W                  1294981                  0.198436   \n",
       "FASTOW ANDREW S                   1736055                  0.000000   \n",
       "GLISAN JR BEN F                     71023                  0.375000   \n",
       "HANNON KEVIN P                    1617011                  0.656250   \n",
       "HIRKO JOSEPH                          NaN                  0.000000   \n",
       "KOENIG MARK E                      300000                  0.245902   \n",
       "KOPPER MICHAEL J                   602671                  0.000000   \n",
       "LAY KENNETH L                     3600000                  0.444444   \n",
       "RICE KENNETH D                    1617011                  0.222222   \n",
       "RIEKER PAULA H                        NaN                  0.585366   \n",
       "SHELBY REX                            NaN                  0.358974   \n",
       "SKILLING JEFFREY K                1920000                  0.277778   \n",
       "YEAGER F SCOTT                        NaN                  0.000000   \n",
       "\n",
       "                      restricted_stock_deferred  shared_receipt_with_poi  \\\n",
       "BELDEN TIMOTHY N                            NaN                     5521   \n",
       "BOWEN JR RAYMOND M                          NaN                     1593   \n",
       "CALGER CHRISTOPHER F                        NaN                     2188   \n",
       "CAUSEY RICHARD A                            NaN                     1585   \n",
       "COLWELL WESLEY                              NaN                     1132   \n",
       "DELAINEY DAVID W                            NaN                     2097   \n",
       "FASTOW ANDREW S                             NaN                      NaN   \n",
       "GLISAN JR BEN F                             NaN                      874   \n",
       "HANNON KEVIN P                              NaN                     1035   \n",
       "HIRKO JOSEPH                                NaN                      NaN   \n",
       "KOENIG MARK E                               NaN                     2271   \n",
       "KOPPER MICHAEL J                            NaN                      NaN   \n",
       "LAY KENNETH L                               NaN                     2411   \n",
       "RICE KENNETH D                              NaN                      864   \n",
       "RIEKER PAULA H                              NaN                     1258   \n",
       "SHELBY REX                                  NaN                       91   \n",
       "SKILLING JEFFREY K                          NaN                     2042   \n",
       "YEAGER F SCOTT                              NaN                      NaN   \n",
       "\n",
       "                               ...             director_fees    bonus  \\\n",
       "BELDEN TIMOTHY N               ...                       NaN  5249999   \n",
       "BOWEN JR RAYMOND M             ...                       NaN  1350000   \n",
       "CALGER CHRISTOPHER F           ...                       NaN  1250000   \n",
       "CAUSEY RICHARD A               ...                       NaN  1000000   \n",
       "COLWELL WESLEY                 ...                       NaN  1200000   \n",
       "DELAINEY DAVID W               ...                       NaN  3000000   \n",
       "FASTOW ANDREW S                ...                       NaN  1300000   \n",
       "GLISAN JR BEN F                ...                       NaN   600000   \n",
       "HANNON KEVIN P                 ...                       NaN  1500000   \n",
       "HIRKO JOSEPH                   ...                       NaN      NaN   \n",
       "KOENIG MARK E                  ...                       NaN   700000   \n",
       "KOPPER MICHAEL J               ...                       NaN   800000   \n",
       "LAY KENNETH L                  ...                       NaN  7000000   \n",
       "RICE KENNETH D                 ...                       NaN  1750000   \n",
       "RIEKER PAULA H                 ...                       NaN   700000   \n",
       "SHELBY REX                     ...                       NaN   200000   \n",
       "SKILLING JEFFREY K             ...                       NaN  5600000   \n",
       "YEAGER F SCOTT                 ...                       NaN      NaN   \n",
       "\n",
       "                      total_stock_value  from_poi_to_this_person  \\\n",
       "BELDEN TIMOTHY N                1110705                      228   \n",
       "BOWEN JR RAYMOND M               252055                      140   \n",
       "CALGER CHRISTOPHER F             126027                      199   \n",
       "CAUSEY RICHARD A                2502063                       58   \n",
       "COLWELL WESLEY                   698242                      240   \n",
       "DELAINEY DAVID W                3614261                       66   \n",
       "FASTOW ANDREW S                 1794412                      NaN   \n",
       "GLISAN JR BEN F                  778546                       52   \n",
       "HANNON KEVIN P                  6391065                       32   \n",
       "HIRKO JOSEPH                   30766064                      NaN   \n",
       "KOENIG MARK E                   1920055                       53   \n",
       "KOPPER MICHAEL J                 985032                      NaN   \n",
       "LAY KENNETH L                  49110078                      123   \n",
       "RICE KENNETH D                 22542539                       42   \n",
       "RIEKER PAULA H                  1918887                       35   \n",
       "SHELBY REX                      2493616                       13   \n",
       "SKILLING JEFFREY K             26093672                       88   \n",
       "YEAGER F SCOTT                 11884758                      NaN   \n",
       "\n",
       "                      from_this_person_to_poi  restricted_stock   salary  \\\n",
       "BELDEN TIMOTHY N                          108            157569   213999   \n",
       "BOWEN JR RAYMOND M                         15            252055   278601   \n",
       "CALGER CHRISTOPHER F                       25            126027   240189   \n",
       "CAUSEY RICHARD A                           12           2502063   415189   \n",
       "COLWELL WESLEY                             11            698242   288542   \n",
       "DELAINEY DAVID W                          609           1323148   365163   \n",
       "FASTOW ANDREW S                           NaN           1794412   440698   \n",
       "GLISAN JR BEN F                             6            393818   274975   \n",
       "HANNON KEVIN P                             21            853064   243293   \n",
       "HIRKO JOSEPH                              NaN               NaN      NaN   \n",
       "KOENIG MARK E                              15           1248318   309946   \n",
       "KOPPER MICHAEL J                          NaN            985032   224305   \n",
       "LAY KENNETH L                              16          14761694  1072321   \n",
       "RICE KENNETH D                              4           2748364   420636   \n",
       "RIEKER PAULA H                             48            283649   249201   \n",
       "SHELBY REX                                 14            869220   211844   \n",
       "SKILLING JEFFREY K                         30           6843672  1111258   \n",
       "YEAGER F SCOTT                            NaN           3576206   158403   \n",
       "\n",
       "                      total_payments  fraction_emails_to_poi  \\\n",
       "BELDEN TIMOTHY N             5501630                0.028532   \n",
       "BOWEN JR RAYMOND M           2669589                0.075350   \n",
       "CALGER CHRISTOPHER F         1639297                0.076597   \n",
       "CAUSEY RICHARD A             1868758                0.030655   \n",
       "COLWELL WESLEY               1490344                0.136519   \n",
       "DELAINEY DAVID W             4747979                0.021339   \n",
       "FASTOW ANDREW S              2424083                0.000000   \n",
       "GLISAN JR BEN F              1272284                0.059565   \n",
       "HANNON KEVIN P                288682                0.030622   \n",
       "HIRKO JOSEPH                   91093                0.000000   \n",
       "KOENIG MARK E                1587421                0.022325   \n",
       "KOPPER MICHAEL J             2652612                0.000000   \n",
       "LAY KENNETH L              103559793                0.028785   \n",
       "RICE KENNETH D                505050                0.046409   \n",
       "RIEKER PAULA H               1099100                0.026355   \n",
       "SHELBY REX                   2003885                0.057778   \n",
       "SKILLING JEFFREY K           8682716                0.024262   \n",
       "YEAGER F SCOTT                360300                0.000000   \n",
       "\n",
       "                      exercised_stock_options  \n",
       "BELDEN TIMOTHY N                       953136  \n",
       "BOWEN JR RAYMOND M                        NaN  \n",
       "CALGER CHRISTOPHER F                      NaN  \n",
       "CAUSEY RICHARD A                          NaN  \n",
       "COLWELL WESLEY                            NaN  \n",
       "DELAINEY DAVID W                      2291113  \n",
       "FASTOW ANDREW S                           NaN  \n",
       "GLISAN JR BEN F                        384728  \n",
       "HANNON KEVIN P                        5538001  \n",
       "HIRKO JOSEPH                         30766064  \n",
       "KOENIG MARK E                          671737  \n",
       "KOPPER MICHAEL J                          NaN  \n",
       "LAY KENNETH L                        34348384  \n",
       "RICE KENNETH D                       19794175  \n",
       "RIEKER PAULA H                        1635238  \n",
       "SHELBY REX                            1624396  \n",
       "SKILLING JEFFREY K                   19250000  \n",
       "YEAGER F SCOTT                        8308552  \n",
       "\n",
       "[18 rows x 23 columns]"
      ]
     },
     "execution_count": 88,
     "metadata": {},
     "output_type": "execute_result"
    }
   ],
   "source": [
    "enron_fin_data_frame[enron_fin_data_frame.poi==True]"
   ]
  },
  {
   "cell_type": "code",
   "execution_count": 22,
   "metadata": {
    "collapsed": false
   },
   "outputs": [
    {
     "data": {
      "text/plain": [
       "[array([    0.,     0.,     0.,     0.,     0.,     0.,  1413.,     0.,\n",
       "            0.,     0.,     0.]),\n",
       " array([  1.30724000e+05,   1.00000000e+00,   7.81250000e-02,\n",
       "          2.28276800e+06,   2.28276800e+06,   0.00000000e+00,\n",
       "          4.99400000e+03,   1.19000000e+02,   0.00000000e+00,\n",
       "          2.28276800e+06,   2.28276800e+06]),\n",
       " array([  4.92375000e+05,   2.20022002e-02,   2.93443375e-02,\n",
       "          8.83191300e+06,   8.83191300e+06,   8.00000000e+05,\n",
       "          5.11240000e+04,   1.40100000e+03,   8.00000000e+05,\n",
       "          8.83191300e+06,   8.83191300e+06]),\n",
       " array([  1.11125800e+06,   2.77777778e-01,   2.42624759e-02,\n",
       "          1.92500000e+07,   2.60936720e+07,   5.60000000e+06,\n",
       "          2.93360000e+04,   2.04200000e+03,   5.60000000e+06,\n",
       "          2.60936720e+07,   1.92500000e+07]),\n",
       " array([  440698.,        0.,        0.,        0.,  1794412.,  1300000.,\n",
       "           55921.,        0.,  1300000.,  1794412.,        0.]),\n",
       " array([  2.13625000e+05,   2.00000000e-01,   1.43123833e-02,\n",
       "          1.46573400e+06,   1.84381600e+06,   1.00000000e+06,\n",
       "          3.85590000e+04,   1.33600000e+03,   1.00000000e+06,\n",
       "          1.84381600e+06,   1.46573400e+06]),\n",
       " array([  0.00000000e+00,   0.00000000e+00,   0.00000000e+00,\n",
       "          2.21827500e+06,   2.21827500e+06,   0.00000000e+00,\n",
       "          0.00000000e+00,   2.30000000e+01,   0.00000000e+00,\n",
       "          2.21827500e+06,   2.21827500e+06]),\n",
       " array([  2.88558000e+05,   3.39285714e-01,   9.68992248e-02,\n",
       "          1.85063000e+05,   7.25735000e+05,   2.50000000e+05,\n",
       "          1.01810000e+04,   1.17000000e+02,   2.50000000e+05,\n",
       "          7.25735000e+05,   1.85063000e+05]),\n",
       " array([      0.,       0.,       0.,       0.,       0.,       0.,\n",
       "         228656.,       0.,       0.,       0.,       0.]),\n",
       " array([ 6615.,     0.,     0.,     0.,     0.,     0.,     0.,     0.,\n",
       "            0.,     0.,     0.]),\n",
       " array([  3.04110000e+05,   3.09585975e-02,   2.91834834e-02,\n",
       "          1.44189800e+06,   2.07203500e+06,   2.00000000e+06,\n",
       "          1.78979000e+05,   1.73000000e+03,   2.00000000e+06,\n",
       "          2.07203500e+06,   1.44189800e+06]),\n",
       " array([  2.59996000e+05,   2.33333333e-01,   5.50000000e-02,\n",
       "          1.66826000e+06,   2.05642700e+06,   3.25000000e+05,\n",
       "          0.00000000e+00,   3.37000000e+02,   3.25000000e+05,\n",
       "          2.05642700e+06,   1.66826000e+06]),\n",
       " array([  0.00000000e+00,   0.00000000e+00,   1.05042017e-02,\n",
       "          8.50477000e+05,   8.50477000e+05,   0.00000000e+00,\n",
       "          0.00000000e+00,   7.39000000e+02,   0.00000000e+00,\n",
       "          8.50477000e+05,   8.50477000e+05]),\n",
       " array([  3.30546000e+05,   6.74264008e-02,   4.42804428e-02,\n",
       "          2.54281300e+06,   3.44447000e+06,   9.00000000e+05,\n",
       "          0.00000000e+00,   2.33300000e+03,   9.00000000e+05,\n",
       "          3.44447000e+06,   2.54281300e+06]),\n",
       " array([  3.65038000e+05,   7.07512764e-02,   2.76359267e-02,\n",
       "          1.62301000e+06,   3.10127900e+06,   1.10000000e+06,\n",
       "          8.13640000e+04,   2.18900000e+03,   1.10000000e+06,\n",
       "          3.10127900e+06,   1.62301000e+06]),\n",
       " array([      0.,       0.,       0.,  431750.,  431750.,       0.,\n",
       "              0.,       0.,       0.,  431750.,  431750.]),\n",
       " array([  0.00000000e+00,   3.44827586e-02,   0.00000000e+00,\n",
       "          2.60449000e+06,   0.00000000e+00,   0.00000000e+00,\n",
       "          0.00000000e+00,   4.63000000e+02,   0.00000000e+00,\n",
       "          0.00000000e+00,   2.60449000e+06]),\n",
       " array([  3.14288000e+05,   1.21212121e-01,   0.00000000e+00,\n",
       "          1.17551000e+05,   4.95633000e+05,   8.00000000e+05,\n",
       "          2.78610000e+04,   7.10000000e+01,   8.00000000e+05,\n",
       "          4.95633000e+05,   1.17551000e+05]),\n",
       " array([   317543.,         0.,         0.,   1297049.,  15144123.,\n",
       "           450000.,     81353.,         0.,    450000.,  15144123.,\n",
       "          1297049.]),\n",
       " array([  4.20636000e+05,   2.22222222e-01,   4.64088398e-02,\n",
       "          1.97941750e+07,   2.25425390e+07,   1.75000000e+06,\n",
       "          4.69500000e+04,   8.64000000e+02,   1.75000000e+06,\n",
       "          2.25425390e+07,   1.97941750e+07]),\n",
       " array([  2.78601000e+05,   5.00000000e-01,   2.17341040e-01,\n",
       "          7.65920000e+05,   1.08098800e+06,   8.00000000e+05,\n",
       "          9.62680000e+04,   7.72000000e+02,   8.00000000e+05,\n",
       "          1.08098800e+06,   7.65920000e+05]),\n",
       " array([  4.28780000e+05,   2.50000000e-01,   8.78569187e-03,\n",
       "          1.83555800e+06,   3.12898200e+06,   1.50000000e+06,\n",
       "          0.00000000e+00,   2.10300000e+03,   1.50000000e+06,\n",
       "          3.12898200e+06,   1.83555800e+06]),\n",
       " array([  2.73746000e+05,   2.22222222e-01,   2.37420269e-02,\n",
       "          0.00000000e+00,   3.60528000e+05,   1.00000000e+06,\n",
       "          0.00000000e+00,   2.67200000e+03,   1.00000000e+06,\n",
       "          3.60528000e+05,   0.00000000e+00]),\n",
       " array([ 239671.,       0.,       0.,       0.,   63014.,  400000.,\n",
       "         129142.,       0.,  400000.,   63014.,       0.]),\n",
       " array([  2.71442000e+05,   1.12268519e-01,   3.02227574e-02,\n",
       "          8.10420000e+04,   5.47143000e+05,   3.10000000e+06,\n",
       "          5.77400000e+03,   3.66900000e+03,   3.10000000e+06,\n",
       "          5.47143000e+05,   8.10420000e+04]),\n",
       " array([  0.00000000e+00,   0.00000000e+00,   1.30890052e-02,\n",
       "          6.51850000e+05,   1.03818500e+06,   0.00000000e+00,\n",
       "          0.00000000e+00,   5.80000000e+01,   0.00000000e+00,\n",
       "          1.03818500e+06,   6.51850000e+05]),\n",
       " array([     0.,      0.,      0.,  98718.,  98718.,      0.,      0.,\n",
       "             0.,      0.,  98718.,  98718.]),\n",
       " array([  0.00000000e+00,   3.58152686e-02,   1.32125330e-02,\n",
       "          0.00000000e+00,   3.46663000e+05,   0.00000000e+00,\n",
       "          0.00000000e+00,   5.71000000e+02,   0.00000000e+00,\n",
       "          3.46663000e+05,   0.00000000e+00]),\n",
       " array([  0.00000000e+00,   2.43902439e-02,   8.74831763e-03,\n",
       "          0.00000000e+00,   0.00000000e+00,   0.00000000e+00,\n",
       "          4.92880000e+04,   7.61000000e+02,   0.00000000e+00,\n",
       "          0.00000000e+00,   0.00000000e+00]),\n",
       " array([ 261516.,       0.,       0.,       0.,  417619.,  750000.,\n",
       "           9410.,       0.,  750000.,  417619.,       0.]),\n",
       " array([  1.87922000e+05,   0.00000000e+00,   1.04438642e-02,\n",
       "          0.00000000e+00,   6.59249000e+05,   2.50000000e+05,\n",
       "          5.91750000e+04,   2.33000000e+02,   2.50000000e+05,\n",
       "          6.59249000e+05,   0.00000000e+00]),\n",
       " array([  3.74125000e+05,   3.14270994e-02,   4.48989773e-02,\n",
       "          6.08750000e+05,   8.03094000e+05,   1.15000000e+06,\n",
       "          7.61690000e+04,   1.84700000e+03,   1.15000000e+06,\n",
       "          8.03094000e+05,   6.08750000e+05]),\n",
       " array([  0.00000000e+00,   6.25000000e-02,   0.00000000e+00,\n",
       "          0.00000000e+00,   4.73040000e+04,   0.00000000e+00,\n",
       "          0.00000000e+00,   3.00000000e+00,   0.00000000e+00,\n",
       "          4.73040000e+04,   0.00000000e+00]),\n",
       " array([  0.00000000e+00,   1.47058824e-01,   4.86787204e-02,\n",
       "          7.54966000e+05,   1.11839400e+06,   0.00000000e+00,\n",
       "          0.00000000e+00,   5.89000000e+02,   0.00000000e+00,\n",
       "          1.11839400e+06,   7.54966000e+05]),\n",
       " array([  0.,   0.,   0.,   0.,   0.,   0.,   0.,  12.,   0.,   0.,   0.]),\n",
       " array([  0.00000000e+00,   0.00000000e+00,   0.00000000e+00,\n",
       "          3.43434000e+05,   3.43434000e+05,   0.00000000e+00,\n",
       "          0.00000000e+00,   2.00000000e+00,   0.00000000e+00,\n",
       "          3.43434000e+05,   3.43434000e+05]),\n",
       " array([  236457.,        0.,        0.,  2549361.,  3064208.,   200000.,\n",
       "           57727.,        0.,   200000.,  3064208.,  2549361.]),\n",
       " array([   0.,    0.,    0.,    0.,    0.,    0.,  148.,    0.,    0.,\n",
       "           0.,    0.]),\n",
       " array([  2.51654000e+05,   0.00000000e+00,   8.82352941e-02,\n",
       "          1.05632000e+06,   1.41684800e+06,   1.10000000e+06,\n",
       "          0.00000000e+00,   1.14000000e+02,   1.10000000e+06,\n",
       "          1.41684800e+06,   1.05632000e+06]),\n",
       " array([  2.01955000e+05,   2.96127563e-02,   1.61957271e-02,\n",
       "          1.72954100e+06,   1.72954100e+06,   4.17500000e+06,\n",
       "          1.38680000e+04,   1.40700000e+03,   4.17500000e+06,\n",
       "          1.72954100e+06,   1.72954100e+06]),\n",
       " array([  0.00000000e+00,   0.00000000e+00,   0.00000000e+00,\n",
       "          5.95390000e+04,   2.21141000e+05,   0.00000000e+00,\n",
       "          0.00000000e+00,   1.27000000e+02,   0.00000000e+00,\n",
       "          2.21141000e+05,   5.95390000e+04]),\n",
       " array([ 184899.,       0.,       0.,       0.,  207940.,  325000.,\n",
       "          22344.,       0.,  325000.,  207940.,       0.])]"
      ]
     },
     "execution_count": 22,
     "metadata": {},
     "output_type": "execute_result"
    }
   ],
   "source": [
    "features_test"
   ]
  },
  {
   "cell_type": "code",
   "execution_count": null,
   "metadata": {
    "collapsed": true
   },
   "outputs": [],
   "source": []
  }
 ],
 "metadata": {
  "kernelspec": {
   "display_name": "Python 2",
   "language": "python",
   "name": "python2"
  },
  "language_info": {
   "codemirror_mode": {
    "name": "ipython",
    "version": 2
   },
   "file_extension": ".py",
   "mimetype": "text/x-python",
   "name": "python",
   "nbconvert_exporter": "python",
   "pygments_lexer": "ipython2",
   "version": "2.7.10"
  }
 },
 "nbformat": 4,
 "nbformat_minor": 0
}
